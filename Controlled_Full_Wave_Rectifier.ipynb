{
  "nbformat": 4,
  "nbformat_minor": 0,
  "metadata": {
    "colab": {
      "name": "Controlled_Full_Wave_Rectifier.ipynb",
      "provenance": [],
      "authorship_tag": "ABX9TyO6aMTkqJ/Lgmj6nfMdgfKt",
      "include_colab_link": true
    },
    "kernelspec": {
      "name": "python3",
      "display_name": "Python 3"
    },
    "language_info": {
      "name": "python"
    }
  },
  "cells": [
    {
      "cell_type": "markdown",
      "metadata": {
        "id": "view-in-github",
        "colab_type": "text"
      },
      "source": [
        "<a href=\"https://colab.research.google.com/github/JesusPenha/Electronica_Potencia/blob/main/Controlled_Full_Wave_Rectifier.ipynb\" target=\"_parent\"><img src=\"https://colab.research.google.com/assets/colab-badge.svg\" alt=\"Open In Colab\"/></a>"
      ]
    },
    {
      "cell_type": "markdown",
      "source": [
        "# Controlled full wave rectifier"
      ],
      "metadata": {
        "id": "msbyXg3C0Cjc"
      }
    },
    {
      "cell_type": "markdown",
      "source": [
        "In this script, we implement a controlled Full Wave Rectifier model.\n",
        "\n",
        "$$i_o(\\omega t) = \\frac{V_m}{Z} \\left[ \\sin (\\omega t - \\theta) - \\sin (\\alpha - \\theta) e^{(\\alpha - \\omega t)/\\omega \\tau} \\right]$$"
      ],
      "metadata": {
        "id": "3wNmNbmq0HA1"
      }
    },
    {
      "cell_type": "code",
      "source": [
        "import numpy as np\n",
        "import matplotlib.pylab as plt"
      ],
      "metadata": {
        "id": "MBIcYmvZ0IZK"
      },
      "execution_count": 1,
      "outputs": []
    },
    {
      "cell_type": "markdown",
      "source": [
        "#  Discontinuous mode"
      ],
      "metadata": {
        "id": "ZC2nb8-b0N6E"
      }
    },
    {
      "cell_type": "code",
      "source": [
        "Vs = 120         # Generator voltage\n",
        "fs = 60          # Generator frequency\n",
        "alpha = 60*np.pi/180.0  # Trigger angle\n",
        "R = 10  # Resistive load\n",
        "L = 20e-3 # Inductance load\n",
        "w = 2*np.pi*60 # frequency\n",
        "\n",
        "Vm = np.sqrt(2)*Vs\n",
        "Z = np.sqrt(R**2 + (w*L)**2)\n",
        "theta = np.arctan(w*L/R)\n",
        "wT = w*L/R\n",
        "\n",
        "A = -(Vm/Z)*np.sin(alpha - theta)*np.exp(alpha/wT)"
      ],
      "metadata": {
        "id": "-Mq9RzwI0P6w"
      },
      "execution_count": 2,
      "outputs": []
    },
    {
      "cell_type": "code",
      "source": [
        "wt = np.linspace(0,2*np.pi, 1000)\n",
        "\n",
        "io = (Vm/Z)*np.sin(wt-theta) + A*np.exp(-wt/wT)\n",
        "Vswt = Vm*np.sin(wt)"
      ],
      "metadata": {
        "id": "YrqxZsQE0SVD"
      },
      "execution_count": 3,
      "outputs": []
    },
    {
      "cell_type": "markdown",
      "source": [
        "## Solving Beta value"
      ],
      "metadata": {
        "id": "o8ZRAkBP0XJ0"
      }
    },
    {
      "cell_type": "code",
      "source": [
        "from scipy.optimize import fsolve\n",
        "\n",
        "func = lambda beta : (Vm/Z)*np.sin(beta-theta) - np.sin(alpha -theta)*np.exp((alpha-beta)/wT) \n",
        "\n",
        "beta_initial_guess = np.pi + alpha\n",
        "beta_sol = fsolve(func, beta_initial_guess)\n",
        "print (\"Beta is : %f\" % beta_sol) "
      ],
      "metadata": {
        "colab": {
          "base_uri": "https://localhost:8080/"
        },
        "id": "JjhRRB590Xze",
        "outputId": "a8c4a93b-d554-4c81-8cc5-23dc75603534"
      },
      "execution_count": 4,
      "outputs": [
        {
          "output_type": "stream",
          "name": "stdout",
          "text": [
            "Beta is : 3.786876\n"
          ]
        }
      ]
    },
    {
      "cell_type": "code",
      "source": [
        "N = len(io)\n",
        "io_sol = np.zeros(N)\n",
        "Vo = np.zeros(N)\n",
        "\n",
        "for i in range(N):\n",
        "    if wt[i] <= beta_sol and wt[i] >= alpha:\n",
        "        io_sol[i] = io[i]\n",
        "        \n",
        "for j in range(N):\n",
        "    n = wt[j]//3.14\n",
        "    if wt[j] <= np.pi*(n+1) and wt[j] >= alpha + np.pi*(n):\n",
        "        Vo[j] = np.abs(Vm*np.sin(wt[j]))"
      ],
      "metadata": {
        "id": "al1LemUm0aPe"
      },
      "execution_count": 5,
      "outputs": []
    },
    {
      "cell_type": "code",
      "source": [
        "plt.figure(figsize=(8,5))\n",
        "plt.plot(wt, Vswt, '--r', label='$V_s$')\n",
        "plt.plot(wt, Vo, 'b', label='$V_o$')\n",
        "plt.plot(wt, io_sol, 'g', label='$i_o$')\n",
        "plt.xlabel(\"$\\omega t$\", fontsize=15)\n",
        "plt.ylabel(\"$V_s, V_o, i_o$\", fontsize=15)\n",
        "plt.legend(fontsize=15)\n",
        "plt.grid()\n"
      ],
      "metadata": {
        "colab": {
          "base_uri": "https://localhost:8080/",
          "height": 340
        },
        "id": "1_aHxQn30cJL",
        "outputId": "3ac5533c-060f-4faa-800f-78c7aa5bdd6b"
      },
      "execution_count": 6,
      "outputs": [
        {
          "output_type": "display_data",
          "data": {
            "text/plain": [
              "<Figure size 576x360 with 1 Axes>"
            ],
            "image/png": "[encoded data removed]"
          },
          "metadata": {
            "needs_background": "light"
          }
        }
      ]
    },
    {
      "cell_type": "code",
      "source": [
        ""
      ],
      "metadata": {
        "id": "v8IMGZHn0d1o"
      },
      "execution_count": null,
      "outputs": []
    }
  ]
}